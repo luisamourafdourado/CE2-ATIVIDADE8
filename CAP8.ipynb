{
  "nbformat": 4,
  "nbformat_minor": 0,
  "metadata": {
    "colab": {
      "name": "CAP8.ipynb",
      "provenance": [],
      "collapsed_sections": []
    },
    "kernelspec": {
      "name": "python3",
      "display_name": "Python 3"
    }
  },
  "cells": [
    {
      "cell_type": "markdown",
      "metadata": {
        "id": "9Uum-n43ebsu"
      },
      "source": [
        "## **COMPUTAÇÃO EM ESTATÍSTICA 2 - PYTHON**\n",
        "\n",
        "Luísa de Moura Ferreira Dourado - 180023012"
      ]
    },
    {
      "cell_type": "markdown",
      "metadata": {
        "id": "thgJhWyq-NJy"
      },
      "source": [
        "## **CAPÍTULO 8** "
      ]
    },
    {
      "cell_type": "markdown",
      "metadata": {
        "id": "lLbzHWbQ-ahs"
      },
      "source": [
        "Selecionando os exercícios de entrega obrigatória:"
      ]
    },
    {
      "cell_type": "code",
      "metadata": {
        "colab": {
          "base_uri": "https://localhost:8080/"
        },
        "id": "yA-S4c4Q-Z55",
        "outputId": "74e68f9a-d1aa-4fc7-942a-b8f1b7359229"
      },
      "source": [
        "import random\n",
        "\n",
        "def escolhe(matricula):\n",
        "    random.seed(matricula)\n",
        "    cap1 = (2,8,9,11,12,15,16,18,20,21,22,24,26,27,28,30,31,32)    \n",
        "    cap2 = (36,40,44,45,46,48,50,51,53,55,56,57,59,60)\n",
        "    cap3 = (63,64,65,68,71,72,74,76,78,80,81,84)\n",
        "    cap4 = (85,86,87,89,91,92,94,97,99,101,103,104,106)\n",
        "    cap5 = (111,115,117,118,119,122,123,124,126,127,131,132,133)\n",
        "    cap6 = (138,139,140,141,144,147,148)\n",
        "    cap7 = (152,153,154,155,157,160,161,164,165,166,168,171,172)\n",
        "    cap8 = (174,175,176,177,179,181,182,185)\n",
        "    return(random.sample(cap8, k=2))\n",
        "\n",
        "print(\"Você deverá entregar os exercícios: \", escolhe(input(\"Escreva o número de sua matricula: \")))"
      ],
      "execution_count": 1,
      "outputs": [
        {
          "output_type": "stream",
          "text": [
            "Escreva o número de sua matricula: 180023012\n",
            "Você deverá entregar os exercícios:  [177, 185]\n"
          ],
          "name": "stdout"
        }
      ]
    },
    {
      "cell_type": "markdown",
      "metadata": {
        "id": "ciIJ98nr-whp"
      },
      "source": [
        "### **EXERCÍCIOS OBRIGATÓRIOS**\n"
      ]
    },
    {
      "cell_type": "markdown",
      "metadata": {
        "id": "SW3gMF8J-6tQ"
      },
      "source": [
        "**EXERCÍCIO 177**"
      ]
    },
    {
      "cell_type": "markdown",
      "metadata": {
        "id": "hTmvZn4YssSs"
      },
      "source": [
        "As the name implies, Roman numerals were developed in ancient Rome. Even after\n",
        "the Roman empire fell, its numerals continued to be widely used in Europe until the\n",
        "late middle ages, and its numerals are still used in limited circumstances today.\n",
        "\n",
        "Roman numerals are constructed from the letters M, D, C, L, X, V and I which\n",
        "represent 1000, 500, 100, 50, 10, 5 and 1 respectively. The numerals are generally\n",
        "written from largest value to smallest value. When this occurs the value of the number\n",
        "is the sum of the values of all of its numerals. If a smaller value precedes a larger\n",
        "value then the smaller value is subtracted from the larger value that it immediately\n",
        "precedes, and that difference is added to the value of the number.\n",
        "\n",
        "Create a recursive function that converts a Roman numeral to an integer. Your\n",
        "function should process one or two characters at the beginning of the string, and\n",
        "then call itself recursively on all of the unprocessed characters. Use an empty string,\n",
        "which has the value 0, for the base case. In addition, write a main program that reads\n",
        "a Roman numeral from the user and displays its value. You can assume that the value\n",
        "entered by the user is valid. Your program does not need to do any error checking.\n"
      ]
    },
    {
      "cell_type": "code",
      "metadata": {
        "colab": {
          "base_uri": "https://localhost:8080/"
        },
        "id": "r8vx--fnrxLj",
        "outputId": "5792439e-04ca-4e44-f67d-b89d4c0af32d"
      },
      "source": [
        "def numromano(algarismoromano):\n",
        "    letras = {\"M\":1000,\"D\":500,\"C\":100,\"L\":50,\"X\":10,\"V\":5,\"I\":1}\n",
        "    if algarismoromano == \"\":\n",
        "        return 0 \n",
        "    elif len(algarismoromano) > 1:\n",
        "      if letras[algarismoromano[0]] >= letras[algarismoromano[1]]:\n",
        "        return letras[algarismoromano[0]] + numromano(algarismoromano[1:len(algarismoromano)])\n",
        "      else:\n",
        "        return letras[algarismoromano[1]] - letras[algarismoromano[0]] + numromano(algarismoromano[2:len(algarismoromano)])\n",
        "    else: \n",
        "      return letras[algarismoromano[0]]\n",
        "      \n",
        "def main():\n",
        "    print(numromano(input(\"Digite o algarismo romano: \")))   \n",
        "\n",
        "main()"
      ],
      "execution_count": 8,
      "outputs": [
        {
          "output_type": "stream",
          "text": [
            "Digite o algarismo romano: CDXCVIII\n",
            "498\n"
          ],
          "name": "stdout"
        }
      ]
    },
    {
      "cell_type": "markdown",
      "metadata": {
        "id": "jgo2kUxr-5Jw"
      },
      "source": [
        "**EXERCÍCIO 185**"
      ]
    },
    {
      "cell_type": "markdown",
      "metadata": {
        "id": "HlBO2VF9stS8"
      },
      "source": [
        "Run-length encoding is a simple data compression technique that can be effective when repeated values occur at adjacent positions within a list. Compression\n",
        "is achieved by replacing groups of repeated values with one copy of the value, followed by the number of times that it should be repeated. For example, the list [\"A\",\n",
        "\"A\", \"A\", \"A\", \"A\", \"A\", \"A\", \"A\", \"A\", \"A\", \"A\", \"A\", \"B\", \"B\",\n",
        "\"B\", \"B\", \"A\", \"A\", \"A\", \"A\", \"A\", \"A\", \"B\"] would be compressed as\n",
        "[\"A\", 12, \"B\", 4, \"A\", 6, \"B\", 1]. Decompression is performed by replicating each value in the list the number of times indicated.\n",
        "\n",
        "Write a recursive function that decompresses a run-length encoded list. Your\n",
        "recursive function will take a run-length compressed list as its only argument. It will\n",
        "return the decompressed list as its only result. Create a main program that displays\n",
        "a run-length encoded list and the result of decoding it."
      ]
    },
    {
      "cell_type": "code",
      "metadata": {
        "id": "aGLdQfM7ePhU"
      },
      "source": [
        "def arrumar(texto):\n",
        "    import unicodedata\n",
        "    import re\n",
        "    texto=str.upper(texto)\n",
        "    for letra in texto:\n",
        "      if letra == \",\" or letra == \".\" or letra == \":\" or letra == \"!\" or letra == \"?\" or letra ==\" \" or letra ==\"[\" or letra ==\"]\":\n",
        "        letra=\"\"\n",
        "    nfkd = unicodedata.normalize('NFKD',texto)\n",
        "    textolimpo = u\"\".join([c for c in nfkd if not unicodedata.combining(c)])\n",
        "    return re.sub('[^a-zA-Z0-9 \\\\\\]','',textolimpo)"
      ],
      "execution_count": 70,
      "outputs": []
    },
    {
      "cell_type": "code",
      "metadata": {
        "colab": {
          "base_uri": "https://localhost:8080/"
        },
        "id": "nmszdrmbstwI",
        "outputId": "d53deae9-084b-46a0-dad0-5ff3f518db49"
      },
      "source": [
        "def descompactar(compactado):\n",
        "  if compactado==[]:\n",
        "    return []\n",
        "  descompressao=[]\n",
        "  elemento=compactado[0]\n",
        "  frequencia=int(compactado[1])\n",
        "  for i in range(frequencia):\n",
        "    descompressao.append(elemento)\n",
        "  return descompressao + descompactar(compactado[2:len(compactado)])\n",
        "\n",
        "def main():\n",
        "  texto=input(\"Digite a lista compactada: \")\n",
        "  texto=arrumar(texto).split()\n",
        "  print(descompactar(texto))   \n",
        "main() "
      ],
      "execution_count": 86,
      "outputs": [
        {
          "output_type": "stream",
          "text": [
            "Digite a lista compactada: [\"A\", 12, \"B\", 4, \"A\", 6, \"B\", 1]\n",
            "['A', 'A', 'A', 'A', 'A', 'A', 'A', 'A', 'A', 'A', 'A', 'A', 'B', 'B', 'B', 'B', 'A', 'A', 'A', 'A', 'A', 'A', 'B']\n"
          ],
          "name": "stdout"
        }
      ]
    }
  ]
}